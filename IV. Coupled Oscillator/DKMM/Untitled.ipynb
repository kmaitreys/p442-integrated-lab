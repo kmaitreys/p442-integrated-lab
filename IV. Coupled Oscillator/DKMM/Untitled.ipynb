{
 "cells": [
  {
   "cell_type": "code",
   "execution_count": 1,
   "id": "116d5b84",
   "metadata": {},
   "outputs": [],
   "source": [
    "import numpy as np\n",
    "from scipy.optimize import curve_fit\n",
    "data = np.loadtxt('/home/daksh/Documents/DKMM/ALL0001.CSV', skiprows=18, dtype=str)\n",
    "new_data = []\n",
    "for i in range(len(data)):\n",
    "    values = data[i].split(',')\n",
    "    values = [v.replace(' ', '') for v in values]\n",
    "    values = [v for v in values if v]\n",
    "    for v in values:\n",
    "        new_data.append(float(v))\n",
    "new_data = np.array(new_data)\n",
    "new_data = new_data.reshape(5000, 4)\n",
    "\n",
    "      "
   ]
  },
  {
   "cell_type": "code",
   "execution_count": 7,
   "id": "d29a19c4",
   "metadata": {},
   "outputs": [
    {
     "name": "stdout",
     "output_type": "stream",
     "text": [
      "[0.21392872 0.21572602 0.96940358] [0.23514268 0.19158563 1.21224839]\n"
     ]
    }
   ],
   "source": [
    "t1 = new_data[:, 0]\n",
    "y1 = new_data[:, 1]\n",
    "t2 = new_data[:, 2]\n",
    "y2 = new_data[:, 3]\n",
    "\n",
    "def oscillator(t, A, B, omega_plus, omega_minus, d, phi, C):\n",
    "    return A*np.cos(omega_plus*(t-d)+phi) + B*np.cos(omega_minus*(t-d)+phi) + C\n",
    "\n",
    "popt1, pcov1 = curve_fit(oscillator, t1, y1)\n",
    "popt2, pcov2 = curve_fit(oscillator, t2, y2)\n",
    "\n",
    "omega_plus_1, omega_minus_1, d_1 = popt1[2:5]\n",
    "omega_plus_2, omega_minus_2, d_2 = popt2[2:5]\n"
   ]
  },
  {
   "cell_type": "code",
   "execution_count": null,
   "id": "197350a8",
   "metadata": {},
   "outputs": [],
   "source": []
  }
 ],
 "metadata": {
  "kernelspec": {
   "display_name": "Python 3 (ipykernel)",
   "language": "python",
   "name": "python3"
  },
  "language_info": {
   "codemirror_mode": {
    "name": "ipython",
    "version": 3
   },
   "file_extension": ".py",
   "mimetype": "text/x-python",
   "name": "python",
   "nbconvert_exporter": "python",
   "pygments_lexer": "ipython3",
   "version": "3.9.13"
  }
 },
 "nbformat": 4,
 "nbformat_minor": 5
}
